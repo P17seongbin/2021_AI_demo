{
  "nbformat": 4,
  "nbformat_minor": 0,
  "metadata": {
    "colab": {
      "name": "Day2_alphabeta.ipynb의 사본",
      "provenance": [],
      "collapsed_sections": [],
      "authorship_tag": "ABX9TyMCyB6OyIBqv/K6BSPak6CP",
      "include_colab_link": true
    },
    "kernelspec": {
      "name": "python3",
      "display_name": "Python 3"
    },
    "language_info": {
      "name": "python"
    }
  },
  "cells": [
    {
      "cell_type": "markdown",
      "metadata": {
        "id": "view-in-github",
        "colab_type": "text"
      },
      "source": [
        "<a href=\"https://colab.research.google.com/github/P17seongbin/2021_AI_demo/blob/main/Day2_alphabeta.ipynb\" target=\"_parent\"><img src=\"https://colab.research.google.com/assets/colab-badge.svg\" alt=\"Open In Colab\"/></a>"
      ]
    },
    {
      "cell_type": "code",
      "metadata": {
        "id": "bKutOt_9QHcZ"
      },
      "source": [
        "import time\n",
        "import copy"
      ],
      "execution_count": null,
      "outputs": []
    },
    {
      "cell_type": "code",
      "metadata": {
        "id": "fGlBPM5TZH62"
      },
      "source": [
        "def judge(state):\n",
        "  winner = \" \"\n",
        "  for i in range(3):\n",
        "    if state[i][0] == state[i][1] and state[i][1] == state[i][2] and state[i][2] != \" \":\n",
        "      winner = state[i][0]\n",
        "    elif state[0][i] == state[1][i] and state[1][i] == state[2][i] and state[2][i] != \" \":\n",
        "      winner =state[0][i]\n",
        "    if state[0][0] == state[1][1] and state[1][1] == state[2][2] and state[2][2] != \" \":\n",
        "      winner =state[0][0]\n",
        "    elif state[2][0] == state[1][1] and state[1][1] == state[0][2] and state[2][0] != \" \":\n",
        "      winner = state[1][1]\n",
        "  return winner"
      ],
      "execution_count": null,
      "outputs": []
    },
    {
      "cell_type": "code",
      "metadata": {
        "id": "ZzZRH922Rq0k"
      },
      "source": [
        "class ttt_plate():\n",
        "  def __init__(self):\n",
        "    self.reset()\n",
        "  def draw(self,pos,symbol):\n",
        "    if symbol == \"X\" or symbol == \"O\":\n",
        "      self.plate[pos[0]][pos[1]] = symbol\n",
        "      self.judge()\n",
        "    else:\n",
        "      raise ValueError()\n",
        "  def judge(self):\n",
        "    winner = judge(self.plate)\n",
        "    if winner != \" \":\n",
        "      self.winner = winner\n",
        "      \n",
        "  def reset(self):\n",
        "    self.winner = \" \"\n",
        "    self.plate = [[\" \", \" \", \" \"] for _ in range(3)]"
      ],
      "execution_count": null,
      "outputs": []
    },
    {
      "cell_type": "code",
      "metadata": {
        "id": "m7nNgpSZu5km"
      },
      "source": [
        "class ttt_large_plate():\n",
        "  def __init__(self):\n",
        "    self.reset()\n",
        "  def draw(self,plate_pos,cell_pos,symbol):\n",
        "    if symbol == \"X\" or symbol == \"O\":\n",
        "      self.plate[plate_pos[0]][plate_pos[1]].draw(cell_pos,symbol)\n",
        "      self.judge()\n",
        "    else:\n",
        "      raise ValueError()\n",
        "\n",
        "  def judge(self):\n",
        "    plate = [[a.winner,b.winner,c.winner] for [a,b,c] in self.plate]\n",
        "    winner = judge(plate)\n",
        "    if winner != \" \":\n",
        "      self.winner = winner\n",
        "      \n",
        "  def reset(self):\n",
        "    self.winner = \" \"\n",
        "    self.plate = [[ttt_plate(), ttt_plate(), ttt_plate()] for _ in range(3)]"
      ],
      "execution_count": null,
      "outputs": []
    },
    {
      "cell_type": "code",
      "metadata": {
        "colab": {
          "base_uri": "https://localhost:8080/"
        },
        "id": "F3xf2OJmTfk8",
        "outputId": "001f370f-fbd6-405c-c33a-c7b3a8ee0b26"
      },
      "source": [
        "class ttt_agent():\n",
        "  def __init__(self, symbol):\n",
        "    self.symbol = symbol\n",
        "    self.opponent = \"O\" if symbol == \"X\" else \"X\"\n",
        "  \n",
        "  def action(self, ttt_plate):\n",
        "    copied_ttt_state = copy.deepcopy(ttt_plate.plate)\n",
        "    \n",
        "    action = ((-1,-1) # placeholder \n",
        "    ##################################\n",
        "    # TODO: Perform minmax search to make a decision\n",
        "    # Hint: utilize BFS or DFS code you've write in yesterday\n",
        "    #################################\n",
        "    return action "
      ],
      "execution_count": null,
      "outputs": [
        {
          "output_type": "stream",
          "text": [
            "O\n"
          ],
          "name": "stdout"
        }
      ]
    },
    {
      "cell_type": "code",
      "metadata": {
        "colab": {
          "base_uri": "https://localhost:8080/",
          "height": 136
        },
        "id": "fCSzxK9iskm_",
        "outputId": "e579c1d8-405d-494d-d165-82bfd2e5d00f"
      },
      "source": [
        "play = ttt_plate()\n",
        "player_1 = ttt_agent(\"O\")\n",
        "player_2 = ttt_agent(\"X\")\n",
        "\n",
        "# If two players plays perfect, there must be no winner\n",
        "for i in range(4):\n",
        "  p1_act = player_1.action(play.plate)\n",
        "  play.draw(p1_act,\"O\")\n",
        "  p2_act = player_2.action(play.plate)\n",
        "  play.draw(p2_act,\"X\")\n",
        "p1_act = player_1.action(play.plate)\n",
        "play.draw(p1_act,\"O\")\n",
        "\n",
        "# There must be NO winner\n",
        "assert play.winner == \" \"\n"
      ],
      "execution_count": null,
      "outputs": [
        {
          "output_type": "error",
          "ename": "SyntaxError",
          "evalue": "ignored",
          "traceback": [
            "\u001b[0;36m  File \u001b[0;32m\"<ipython-input-1-9509e63c3a90>\"\u001b[0;36m, line \u001b[0;32m6\u001b[0m\n\u001b[0;31m    for i in range(4):\u001b[0m\n\u001b[0m                      ^\u001b[0m\n\u001b[0;31mSyntaxError\u001b[0m\u001b[0;31m:\u001b[0m unexpected EOF while parsing\n"
          ]
        }
      ]
    },
    {
      "cell_type": "code",
      "metadata": {
        "id": "6Pt54mb_sxUO"
      },
      "source": [
        ""
      ],
      "execution_count": null,
      "outputs": []
    }
  ]
}