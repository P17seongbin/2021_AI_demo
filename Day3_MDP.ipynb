{
  "nbformat": 4,
  "nbformat_minor": 0,
  "metadata": {
    "colab": {
      "name": "Day3_MDP.ipynb",
      "provenance": [],
      "authorship_tag": "ABX9TyNYFw7G2qmkH33KoJ71HwPJ",
      "include_colab_link": true
    },
    "kernelspec": {
      "name": "python3",
      "display_name": "Python 3"
    },
    "language_info": {
      "name": "python"
    }
  },
  "cells": [
    {
      "cell_type": "markdown",
      "metadata": {
        "id": "view-in-github",
        "colab_type": "text"
      },
      "source": [
        "<a href=\"https://colab.research.google.com/github/P17seongbin/2021_AI_demo/blob/main/Day3_MDP.ipynb\" target=\"_parent\"><img src=\"https://colab.research.google.com/assets/colab-badge.svg\" alt=\"Open In Colab\"/></a>"
      ]
    },
    {
      "cell_type": "code",
      "metadata": {
        "id": "BXIkWIdBwq_3"
      },
      "source": [
        "import time\n",
        "import copy"
      ],
      "execution_count": null,
      "outputs": []
    },
    {
      "cell_type": "markdown",
      "metadata": {
        "id": "-U6FMkbD-WcR"
      },
      "source": [
        "134페이지에 있는 차 달리는 예시를 들면 될 거 같다. 설명에 꽤나 많은 시간을 할애해야 할 듯. \n",
        "\n",
        "그리고 Value Iter와 Q-Value Iter를 모두 설명하고 구현하고 아이고 \n",
        "\n",
        "Time limitation / Discounting 두가지 방법으로 유한한 시간동안 시뮬레이팅 하도록 작성해보세요! 라고 하면 될 듯?\n",
        "\n",
        "(지금 구현체는 무한으로 즐긴다. 이를 어떻게 바꿀 수 있을까? 같은 느낌)\n",
        "\n"
      ]
    },
    {
      "cell_type": "code",
      "metadata": {
        "id": "I1yVcDoJ_6zW"
      },
      "source": [
        "class state_function():\n",
        "  def __init__(self,gamma):\n",
        "    self.state_space = [\"cold\", \"warm\", \"overheated\"]\n",
        "    self.gamma = gamma #Discounting factor\n",
        "    # (s,a,s',p,reward)\n",
        "    self.sas = [\n",
        "                (\"cold\", \"slow\", \"cold\", 1.0, 1)\n",
        "                (\"cold\", \"fast\", \"cold\", 0.5, 2)\n",
        "                (\"cold\", \"fast\", \"warm\", 0.5, 2)\n",
        "                (\"warm\", \"slow\", \"cold\", 0.5, 1)\n",
        "                (\"warm\", \"slow\", \"warm\", 0.5, 1)\n",
        "                (\"warm\", \"fast\", \"overheated\", 1, -10)\n",
        "    ]"
      ],
      "execution_count": null,
      "outputs": []
    }
  ]
}